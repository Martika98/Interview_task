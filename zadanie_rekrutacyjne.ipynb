{
  "nbformat": 4,
  "nbformat_minor": 0,
  "metadata": {
    "colab": {
      "provenance": [],
      "authorship_tag": "ABX9TyOPfwd+ZEd/RXP1mhsOttcW",
      "include_colab_link": true
    },
    "kernelspec": {
      "name": "python3",
      "display_name": "Python 3"
    },
    "language_info": {
      "name": "python"
    }
  },
  "cells": [
    {
      "cell_type": "markdown",
      "metadata": {
        "id": "view-in-github",
        "colab_type": "text"
      },
      "source": [
        "<a href=\"https://colab.research.google.com/github/Martika98/Interview_task/blob/main/zadanie_rekrutacyjne.ipynb\" target=\"_parent\"><img src=\"https://colab.research.google.com/assets/colab-badge.svg\" alt=\"Open In Colab\"/></a>"
      ]
    },
    {
      "cell_type": "code",
      "source": [
        "import pandas as pd\n",
        "import numpy as np\n",
        "import seaborn as sns\n",
        "import matplotlib.pyplot as plt\n",
        "from sklearn.neighbors import KNeighborsClassifier\n",
        "from sklearn.metrics import accuracy_score\n",
        "\n",
        "from sklearn.metrics import confusion_matrix\n",
        "import matplotlib.pyplot as plt\n",
        "from sklearn import metrics"
      ],
      "metadata": {
        "id": "TF2GdJtS5ncG"
      },
      "execution_count": null,
      "outputs": []
    },
    {
      "cell_type": "markdown",
      "source": [
        "Importing data into a dataframe, semicolon as a  separator\n",
        "Setting datatype as string"
      ],
      "metadata": {
        "id": "VPG1bm__3-_o"
      }
    },
    {
      "cell_type": "code",
      "execution_count": null,
      "metadata": {
        "id": "H6TH8tEV39wM"
      },
      "outputs": [],
      "source": [
        "train_data = pd.read_csv(\"training.csv\", sep = ';')\n",
        "train_data.v2 = train_data.v2.astype(str)\n",
        "train_data.v7 = train_data.v7.astype(str)\n",
        "train_data.v15 = train_data.v15.astype(str)\n",
        "\n",
        "val_data = pd.read_csv(\"validation.csv\", sep = ';')\n",
        "val_data.v2 = val_data.v2.astype(str)\n",
        "val_data.v7 = val_data.v7.astype(str)\n",
        "val_data.v15 = val_data.v15.astype(str)"
      ]
    },
    {
      "cell_type": "code",
      "source": [
        "train_data.head(10)"
      ],
      "metadata": {
        "colab": {
          "base_uri": "https://localhost:8080/",
          "height": 363
        },
        "id": "4C_rVf865e7A",
        "outputId": "22631699-e519-418f-fb7d-76e940ffee34"
      },
      "execution_count": null,
      "outputs": [
        {
          "output_type": "execute_result",
          "data": {
            "text/plain": [
              "       v1     v2        v3   v4        v5        v6      v7  v8  v9  v10  v11  \\\n",
              "797   0.0  29.50  0.000046  0.0 -4.772397  0.660170   0.540   1   1    4    0   \n",
              "1082  1.0  19.17  0.000000  1.0 -0.228835  0.680230   0.000   0   0    0    1   \n",
              "849   1.0  25.67  0.001250  0.0  2.956460  0.632776   1.210   1   1   67    1   \n",
              "333   0.0  18.83  0.000954  0.0 -1.172233  0.821603   0.085   1   0    0    0   \n",
              "919   0.0  33.67  0.000037  0.0 -1.128066  0.629964   0.375   0   0    0    0   \n",
              "2234  0.0  44.17  0.000666  0.0 -0.312252  0.727879   7.375   1   1    3    1   \n",
              "3287  1.0  59.67  0.000154  0.0 -1.196493  0.717449   0.125   1   0    0    1   \n",
              "3466  0.0  36.00  0.000100  0.0  1.572031  0.775126   2.000   1   1   11    0   \n",
              "2432  1.0  42.50  0.000491  1.0  3.391225  0.864584   3.165   1   0    0    1   \n",
              "1091  1.0  65.42  0.001100  0.0  1.570521  0.940997  20.000   1   1    7    1   \n",
              "\n",
              "      v12   v14        v15  classLabel  \n",
              "797     0   500  3800000.0           1  \n",
              "1082    1     1  5000000.0           1  \n",
              "849     0   258  1400000.0           1  \n",
              "333     0     0  1000000.0           1  \n",
              "919     0    44  3000000.0           1  \n",
              "2234    0     0        0.0           1  \n",
              "3287    0     0  2600000.0           1  \n",
              "3466    0   456        0.0           1  \n",
              "2432    0  1442   520000.0           1  \n",
              "1091    0     0   220000.0           1  "
            ],
            "text/html": [
              "\n",
              "  <div id=\"df-792e75ed-c89e-4b0f-84b8-1ef42c011f59\">\n",
              "    <div class=\"colab-df-container\">\n",
              "      <div>\n",
              "<style scoped>\n",
              "    .dataframe tbody tr th:only-of-type {\n",
              "        vertical-align: middle;\n",
              "    }\n",
              "\n",
              "    .dataframe tbody tr th {\n",
              "        vertical-align: top;\n",
              "    }\n",
              "\n",
              "    .dataframe thead th {\n",
              "        text-align: right;\n",
              "    }\n",
              "</style>\n",
              "<table border=\"1\" class=\"dataframe\">\n",
              "  <thead>\n",
              "    <tr style=\"text-align: right;\">\n",
              "      <th></th>\n",
              "      <th>v1</th>\n",
              "      <th>v2</th>\n",
              "      <th>v3</th>\n",
              "      <th>v4</th>\n",
              "      <th>v5</th>\n",
              "      <th>v6</th>\n",
              "      <th>v7</th>\n",
              "      <th>v8</th>\n",
              "      <th>v9</th>\n",
              "      <th>v10</th>\n",
              "      <th>v11</th>\n",
              "      <th>v12</th>\n",
              "      <th>v14</th>\n",
              "      <th>v15</th>\n",
              "      <th>classLabel</th>\n",
              "    </tr>\n",
              "  </thead>\n",
              "  <tbody>\n",
              "    <tr>\n",
              "      <th>797</th>\n",
              "      <td>0.0</td>\n",
              "      <td>29.50</td>\n",
              "      <td>0.000046</td>\n",
              "      <td>0.0</td>\n",
              "      <td>-4.772397</td>\n",
              "      <td>0.660170</td>\n",
              "      <td>0.540</td>\n",
              "      <td>1</td>\n",
              "      <td>1</td>\n",
              "      <td>4</td>\n",
              "      <td>0</td>\n",
              "      <td>0</td>\n",
              "      <td>500</td>\n",
              "      <td>3800000.0</td>\n",
              "      <td>1</td>\n",
              "    </tr>\n",
              "    <tr>\n",
              "      <th>1082</th>\n",
              "      <td>1.0</td>\n",
              "      <td>19.17</td>\n",
              "      <td>0.000000</td>\n",
              "      <td>1.0</td>\n",
              "      <td>-0.228835</td>\n",
              "      <td>0.680230</td>\n",
              "      <td>0.000</td>\n",
              "      <td>0</td>\n",
              "      <td>0</td>\n",
              "      <td>0</td>\n",
              "      <td>1</td>\n",
              "      <td>1</td>\n",
              "      <td>1</td>\n",
              "      <td>5000000.0</td>\n",
              "      <td>1</td>\n",
              "    </tr>\n",
              "    <tr>\n",
              "      <th>849</th>\n",
              "      <td>1.0</td>\n",
              "      <td>25.67</td>\n",
              "      <td>0.001250</td>\n",
              "      <td>0.0</td>\n",
              "      <td>2.956460</td>\n",
              "      <td>0.632776</td>\n",
              "      <td>1.210</td>\n",
              "      <td>1</td>\n",
              "      <td>1</td>\n",
              "      <td>67</td>\n",
              "      <td>1</td>\n",
              "      <td>0</td>\n",
              "      <td>258</td>\n",
              "      <td>1400000.0</td>\n",
              "      <td>1</td>\n",
              "    </tr>\n",
              "    <tr>\n",
              "      <th>333</th>\n",
              "      <td>0.0</td>\n",
              "      <td>18.83</td>\n",
              "      <td>0.000954</td>\n",
              "      <td>0.0</td>\n",
              "      <td>-1.172233</td>\n",
              "      <td>0.821603</td>\n",
              "      <td>0.085</td>\n",
              "      <td>1</td>\n",
              "      <td>0</td>\n",
              "      <td>0</td>\n",
              "      <td>0</td>\n",
              "      <td>0</td>\n",
              "      <td>0</td>\n",
              "      <td>1000000.0</td>\n",
              "      <td>1</td>\n",
              "    </tr>\n",
              "    <tr>\n",
              "      <th>919</th>\n",
              "      <td>0.0</td>\n",
              "      <td>33.67</td>\n",
              "      <td>0.000037</td>\n",
              "      <td>0.0</td>\n",
              "      <td>-1.128066</td>\n",
              "      <td>0.629964</td>\n",
              "      <td>0.375</td>\n",
              "      <td>0</td>\n",
              "      <td>0</td>\n",
              "      <td>0</td>\n",
              "      <td>0</td>\n",
              "      <td>0</td>\n",
              "      <td>44</td>\n",
              "      <td>3000000.0</td>\n",
              "      <td>1</td>\n",
              "    </tr>\n",
              "    <tr>\n",
              "      <th>2234</th>\n",
              "      <td>0.0</td>\n",
              "      <td>44.17</td>\n",
              "      <td>0.000666</td>\n",
              "      <td>0.0</td>\n",
              "      <td>-0.312252</td>\n",
              "      <td>0.727879</td>\n",
              "      <td>7.375</td>\n",
              "      <td>1</td>\n",
              "      <td>1</td>\n",
              "      <td>3</td>\n",
              "      <td>1</td>\n",
              "      <td>0</td>\n",
              "      <td>0</td>\n",
              "      <td>0.0</td>\n",
              "      <td>1</td>\n",
              "    </tr>\n",
              "    <tr>\n",
              "      <th>3287</th>\n",
              "      <td>1.0</td>\n",
              "      <td>59.67</td>\n",
              "      <td>0.000154</td>\n",
              "      <td>0.0</td>\n",
              "      <td>-1.196493</td>\n",
              "      <td>0.717449</td>\n",
              "      <td>0.125</td>\n",
              "      <td>1</td>\n",
              "      <td>0</td>\n",
              "      <td>0</td>\n",
              "      <td>1</td>\n",
              "      <td>0</td>\n",
              "      <td>0</td>\n",
              "      <td>2600000.0</td>\n",
              "      <td>1</td>\n",
              "    </tr>\n",
              "    <tr>\n",
              "      <th>3466</th>\n",
              "      <td>0.0</td>\n",
              "      <td>36.00</td>\n",
              "      <td>0.000100</td>\n",
              "      <td>0.0</td>\n",
              "      <td>1.572031</td>\n",
              "      <td>0.775126</td>\n",
              "      <td>2.000</td>\n",
              "      <td>1</td>\n",
              "      <td>1</td>\n",
              "      <td>11</td>\n",
              "      <td>0</td>\n",
              "      <td>0</td>\n",
              "      <td>456</td>\n",
              "      <td>0.0</td>\n",
              "      <td>1</td>\n",
              "    </tr>\n",
              "    <tr>\n",
              "      <th>2432</th>\n",
              "      <td>1.0</td>\n",
              "      <td>42.50</td>\n",
              "      <td>0.000491</td>\n",
              "      <td>1.0</td>\n",
              "      <td>3.391225</td>\n",
              "      <td>0.864584</td>\n",
              "      <td>3.165</td>\n",
              "      <td>1</td>\n",
              "      <td>0</td>\n",
              "      <td>0</td>\n",
              "      <td>1</td>\n",
              "      <td>0</td>\n",
              "      <td>1442</td>\n",
              "      <td>520000.0</td>\n",
              "      <td>1</td>\n",
              "    </tr>\n",
              "    <tr>\n",
              "      <th>1091</th>\n",
              "      <td>1.0</td>\n",
              "      <td>65.42</td>\n",
              "      <td>0.001100</td>\n",
              "      <td>0.0</td>\n",
              "      <td>1.570521</td>\n",
              "      <td>0.940997</td>\n",
              "      <td>20.000</td>\n",
              "      <td>1</td>\n",
              "      <td>1</td>\n",
              "      <td>7</td>\n",
              "      <td>1</td>\n",
              "      <td>0</td>\n",
              "      <td>0</td>\n",
              "      <td>220000.0</td>\n",
              "      <td>1</td>\n",
              "    </tr>\n",
              "  </tbody>\n",
              "</table>\n",
              "</div>\n",
              "      <button class=\"colab-df-convert\" onclick=\"convertToInteractive('df-792e75ed-c89e-4b0f-84b8-1ef42c011f59')\"\n",
              "              title=\"Convert this dataframe to an interactive table.\"\n",
              "              style=\"display:none;\">\n",
              "        \n",
              "  <svg xmlns=\"http://www.w3.org/2000/svg\" height=\"24px\"viewBox=\"0 0 24 24\"\n",
              "       width=\"24px\">\n",
              "    <path d=\"M0 0h24v24H0V0z\" fill=\"none\"/>\n",
              "    <path d=\"M18.56 5.44l.94 2.06.94-2.06 2.06-.94-2.06-.94-.94-2.06-.94 2.06-2.06.94zm-11 1L8.5 8.5l.94-2.06 2.06-.94-2.06-.94L8.5 2.5l-.94 2.06-2.06.94zm10 10l.94 2.06.94-2.06 2.06-.94-2.06-.94-.94-2.06-.94 2.06-2.06.94z\"/><path d=\"M17.41 7.96l-1.37-1.37c-.4-.4-.92-.59-1.43-.59-.52 0-1.04.2-1.43.59L10.3 9.45l-7.72 7.72c-.78.78-.78 2.05 0 2.83L4 21.41c.39.39.9.59 1.41.59.51 0 1.02-.2 1.41-.59l7.78-7.78 2.81-2.81c.8-.78.8-2.07 0-2.86zM5.41 20L4 18.59l7.72-7.72 1.47 1.35L5.41 20z\"/>\n",
              "  </svg>\n",
              "      </button>\n",
              "      \n",
              "  <style>\n",
              "    .colab-df-container {\n",
              "      display:flex;\n",
              "      flex-wrap:wrap;\n",
              "      gap: 12px;\n",
              "    }\n",
              "\n",
              "    .colab-df-convert {\n",
              "      background-color: #E8F0FE;\n",
              "      border: none;\n",
              "      border-radius: 50%;\n",
              "      cursor: pointer;\n",
              "      display: none;\n",
              "      fill: #1967D2;\n",
              "      height: 32px;\n",
              "      padding: 0 0 0 0;\n",
              "      width: 32px;\n",
              "    }\n",
              "\n",
              "    .colab-df-convert:hover {\n",
              "      background-color: #E2EBFA;\n",
              "      box-shadow: 0px 1px 2px rgba(60, 64, 67, 0.3), 0px 1px 3px 1px rgba(60, 64, 67, 0.15);\n",
              "      fill: #174EA6;\n",
              "    }\n",
              "\n",
              "    [theme=dark] .colab-df-convert {\n",
              "      background-color: #3B4455;\n",
              "      fill: #D2E3FC;\n",
              "    }\n",
              "\n",
              "    [theme=dark] .colab-df-convert:hover {\n",
              "      background-color: #434B5C;\n",
              "      box-shadow: 0px 1px 3px 1px rgba(0, 0, 0, 0.15);\n",
              "      filter: drop-shadow(0px 1px 2px rgba(0, 0, 0, 0.3));\n",
              "      fill: #FFFFFF;\n",
              "    }\n",
              "  </style>\n",
              "\n",
              "      <script>\n",
              "        const buttonEl =\n",
              "          document.querySelector('#df-792e75ed-c89e-4b0f-84b8-1ef42c011f59 button.colab-df-convert');\n",
              "        buttonEl.style.display =\n",
              "          google.colab.kernel.accessAllowed ? 'block' : 'none';\n",
              "\n",
              "        async function convertToInteractive(key) {\n",
              "          const element = document.querySelector('#df-792e75ed-c89e-4b0f-84b8-1ef42c011f59');\n",
              "          const dataTable =\n",
              "            await google.colab.kernel.invokeFunction('convertToInteractive',\n",
              "                                                     [key], {});\n",
              "          if (!dataTable) return;\n",
              "\n",
              "          const docLinkHtml = 'Like what you see? Visit the ' +\n",
              "            '<a target=\"_blank\" href=https://colab.research.google.com/notebooks/data_table.ipynb>data table notebook</a>'\n",
              "            + ' to learn more about interactive tables.';\n",
              "          element.innerHTML = '';\n",
              "          dataTable['output_type'] = 'display_data';\n",
              "          await google.colab.output.renderOutput(dataTable, element);\n",
              "          const docLink = document.createElement('div');\n",
              "          docLink.innerHTML = docLinkHtml;\n",
              "          element.appendChild(docLink);\n",
              "        }\n",
              "      </script>\n",
              "    </div>\n",
              "  </div>\n",
              "  "
            ]
          },
          "metadata": {},
          "execution_count": 91
        }
      ]
    },
    {
      "cell_type": "code",
      "source": [
        "(train_data['v17']==train_data['classLabel']).count()"
      ],
      "metadata": {
        "colab": {
          "base_uri": "https://localhost:8080/"
        },
        "id": "CkrxThtqUA4K",
        "outputId": "668c046d-fbc9-4335-df90-ea857b38b9d0"
      },
      "execution_count": null,
      "outputs": [
        {
          "output_type": "execute_result",
          "data": {
            "text/plain": [
              "3700"
            ]
          },
          "metadata": {},
          "execution_count": 5
        }
      ]
    },
    {
      "cell_type": "code",
      "source": [
        "val_data.head(11)"
      ],
      "metadata": {
        "colab": {
          "base_uri": "https://localhost:8080/",
          "height": 394
        },
        "id": "xrV5msNi5iDH",
        "outputId": "7d1d80ec-ccf4-45fa-a4d9-9ea7f01183bc"
      },
      "execution_count": null,
      "outputs": [
        {
          "output_type": "execute_result",
          "data": {
            "text/plain": [
              "   v1     v2         v3 v4            v5           v6     v7 v8 v9  v10 v11  \\\n",
              "0   b  32,33    0,00075  u   0,840107307  0,544982291  1,585  t  f    0   t   \n",
              "1   b  23,58   0,000179  u  -4,174395711  0,864361709   0,54  f  f    0   t   \n",
              "2   b  36,42   7,50E-05  y    2,23222567  0,627475551  0,585  f  f    0   f   \n",
              "3   b  18,42  0,0010415  y  -2,469969629  0,846741022  0,125  t  f    0   f   \n",
              "4   b   24,5  0,0013335  y  -3,149422333  0,321087006   0,04  f  f    0   t   \n",
              "5   a  39,08   4,00E-04  u  -0,503893639  0,799051454      3  f  f    0   f   \n",
              "6   b  23,42   1,00E-04  u  -2,810378929   0,73844739    0,5  f  f    0   t   \n",
              "7   b  29,58   0,000475  u  -3,487245305  0,473373749      2  f  t    1   t   \n",
              "8   b  27,42    0,00125  u   1,208498753  0,677835585   0,25  f  f    0   t   \n",
              "9   b  58,58   0,000271  u   2,338491785  0,315189255  2,415  f  f    0   t   \n",
              "10  b   19,5  0,0009585  u   0,407856831  0,909640269   0,79  f  f    0   f   \n",
              "\n",
              "   v12    v13  v14       v15  v16  v17 classLabel  \n",
              "0    s  420.0    0   4200000  NaN    1        no.  \n",
              "1    g  136.0    1   1360000  NaN    0        no.  \n",
              "2    g  240.0    3   2400000  NaN    1        no.  \n",
              "3    g  120.0  375   1200000  NaN    0        no.  \n",
              "4    g  120.0  475   1200000    f    1        no.  \n",
              "5    g  480.0    0   4800000    f    0        no.  \n",
              "6    s  280.0    0   2800000  NaN    1        no.  \n",
              "7    g  460.0   68   4600000    t    0        no.  \n",
              "8    g  720.0    0   7200000    f    1        no.  \n",
              "9    g  320.0    0   3200000  NaN    0        no.  \n",
              "10   g   80.0  350  8,00E+05    f    1        no.  "
            ],
            "text/html": [
              "\n",
              "  <div id=\"df-1cbe4d93-3580-431c-b1fd-dbb729151fb4\">\n",
              "    <div class=\"colab-df-container\">\n",
              "      <div>\n",
              "<style scoped>\n",
              "    .dataframe tbody tr th:only-of-type {\n",
              "        vertical-align: middle;\n",
              "    }\n",
              "\n",
              "    .dataframe tbody tr th {\n",
              "        vertical-align: top;\n",
              "    }\n",
              "\n",
              "    .dataframe thead th {\n",
              "        text-align: right;\n",
              "    }\n",
              "</style>\n",
              "<table border=\"1\" class=\"dataframe\">\n",
              "  <thead>\n",
              "    <tr style=\"text-align: right;\">\n",
              "      <th></th>\n",
              "      <th>v1</th>\n",
              "      <th>v2</th>\n",
              "      <th>v3</th>\n",
              "      <th>v4</th>\n",
              "      <th>v5</th>\n",
              "      <th>v6</th>\n",
              "      <th>v7</th>\n",
              "      <th>v8</th>\n",
              "      <th>v9</th>\n",
              "      <th>v10</th>\n",
              "      <th>v11</th>\n",
              "      <th>v12</th>\n",
              "      <th>v13</th>\n",
              "      <th>v14</th>\n",
              "      <th>v15</th>\n",
              "      <th>v16</th>\n",
              "      <th>v17</th>\n",
              "      <th>classLabel</th>\n",
              "    </tr>\n",
              "  </thead>\n",
              "  <tbody>\n",
              "    <tr>\n",
              "      <th>0</th>\n",
              "      <td>b</td>\n",
              "      <td>32,33</td>\n",
              "      <td>0,00075</td>\n",
              "      <td>u</td>\n",
              "      <td>0,840107307</td>\n",
              "      <td>0,544982291</td>\n",
              "      <td>1,585</td>\n",
              "      <td>t</td>\n",
              "      <td>f</td>\n",
              "      <td>0</td>\n",
              "      <td>t</td>\n",
              "      <td>s</td>\n",
              "      <td>420.0</td>\n",
              "      <td>0</td>\n",
              "      <td>4200000</td>\n",
              "      <td>NaN</td>\n",
              "      <td>1</td>\n",
              "      <td>no.</td>\n",
              "    </tr>\n",
              "    <tr>\n",
              "      <th>1</th>\n",
              "      <td>b</td>\n",
              "      <td>23,58</td>\n",
              "      <td>0,000179</td>\n",
              "      <td>u</td>\n",
              "      <td>-4,174395711</td>\n",
              "      <td>0,864361709</td>\n",
              "      <td>0,54</td>\n",
              "      <td>f</td>\n",
              "      <td>f</td>\n",
              "      <td>0</td>\n",
              "      <td>t</td>\n",
              "      <td>g</td>\n",
              "      <td>136.0</td>\n",
              "      <td>1</td>\n",
              "      <td>1360000</td>\n",
              "      <td>NaN</td>\n",
              "      <td>0</td>\n",
              "      <td>no.</td>\n",
              "    </tr>\n",
              "    <tr>\n",
              "      <th>2</th>\n",
              "      <td>b</td>\n",
              "      <td>36,42</td>\n",
              "      <td>7,50E-05</td>\n",
              "      <td>y</td>\n",
              "      <td>2,23222567</td>\n",
              "      <td>0,627475551</td>\n",
              "      <td>0,585</td>\n",
              "      <td>f</td>\n",
              "      <td>f</td>\n",
              "      <td>0</td>\n",
              "      <td>f</td>\n",
              "      <td>g</td>\n",
              "      <td>240.0</td>\n",
              "      <td>3</td>\n",
              "      <td>2400000</td>\n",
              "      <td>NaN</td>\n",
              "      <td>1</td>\n",
              "      <td>no.</td>\n",
              "    </tr>\n",
              "    <tr>\n",
              "      <th>3</th>\n",
              "      <td>b</td>\n",
              "      <td>18,42</td>\n",
              "      <td>0,0010415</td>\n",
              "      <td>y</td>\n",
              "      <td>-2,469969629</td>\n",
              "      <td>0,846741022</td>\n",
              "      <td>0,125</td>\n",
              "      <td>t</td>\n",
              "      <td>f</td>\n",
              "      <td>0</td>\n",
              "      <td>f</td>\n",
              "      <td>g</td>\n",
              "      <td>120.0</td>\n",
              "      <td>375</td>\n",
              "      <td>1200000</td>\n",
              "      <td>NaN</td>\n",
              "      <td>0</td>\n",
              "      <td>no.</td>\n",
              "    </tr>\n",
              "    <tr>\n",
              "      <th>4</th>\n",
              "      <td>b</td>\n",
              "      <td>24,5</td>\n",
              "      <td>0,0013335</td>\n",
              "      <td>y</td>\n",
              "      <td>-3,149422333</td>\n",
              "      <td>0,321087006</td>\n",
              "      <td>0,04</td>\n",
              "      <td>f</td>\n",
              "      <td>f</td>\n",
              "      <td>0</td>\n",
              "      <td>t</td>\n",
              "      <td>g</td>\n",
              "      <td>120.0</td>\n",
              "      <td>475</td>\n",
              "      <td>1200000</td>\n",
              "      <td>f</td>\n",
              "      <td>1</td>\n",
              "      <td>no.</td>\n",
              "    </tr>\n",
              "    <tr>\n",
              "      <th>5</th>\n",
              "      <td>a</td>\n",
              "      <td>39,08</td>\n",
              "      <td>4,00E-04</td>\n",
              "      <td>u</td>\n",
              "      <td>-0,503893639</td>\n",
              "      <td>0,799051454</td>\n",
              "      <td>3</td>\n",
              "      <td>f</td>\n",
              "      <td>f</td>\n",
              "      <td>0</td>\n",
              "      <td>f</td>\n",
              "      <td>g</td>\n",
              "      <td>480.0</td>\n",
              "      <td>0</td>\n",
              "      <td>4800000</td>\n",
              "      <td>f</td>\n",
              "      <td>0</td>\n",
              "      <td>no.</td>\n",
              "    </tr>\n",
              "    <tr>\n",
              "      <th>6</th>\n",
              "      <td>b</td>\n",
              "      <td>23,42</td>\n",
              "      <td>1,00E-04</td>\n",
              "      <td>u</td>\n",
              "      <td>-2,810378929</td>\n",
              "      <td>0,73844739</td>\n",
              "      <td>0,5</td>\n",
              "      <td>f</td>\n",
              "      <td>f</td>\n",
              "      <td>0</td>\n",
              "      <td>t</td>\n",
              "      <td>s</td>\n",
              "      <td>280.0</td>\n",
              "      <td>0</td>\n",
              "      <td>2800000</td>\n",
              "      <td>NaN</td>\n",
              "      <td>1</td>\n",
              "      <td>no.</td>\n",
              "    </tr>\n",
              "    <tr>\n",
              "      <th>7</th>\n",
              "      <td>b</td>\n",
              "      <td>29,58</td>\n",
              "      <td>0,000475</td>\n",
              "      <td>u</td>\n",
              "      <td>-3,487245305</td>\n",
              "      <td>0,473373749</td>\n",
              "      <td>2</td>\n",
              "      <td>f</td>\n",
              "      <td>t</td>\n",
              "      <td>1</td>\n",
              "      <td>t</td>\n",
              "      <td>g</td>\n",
              "      <td>460.0</td>\n",
              "      <td>68</td>\n",
              "      <td>4600000</td>\n",
              "      <td>t</td>\n",
              "      <td>0</td>\n",
              "      <td>no.</td>\n",
              "    </tr>\n",
              "    <tr>\n",
              "      <th>8</th>\n",
              "      <td>b</td>\n",
              "      <td>27,42</td>\n",
              "      <td>0,00125</td>\n",
              "      <td>u</td>\n",
              "      <td>1,208498753</td>\n",
              "      <td>0,677835585</td>\n",
              "      <td>0,25</td>\n",
              "      <td>f</td>\n",
              "      <td>f</td>\n",
              "      <td>0</td>\n",
              "      <td>t</td>\n",
              "      <td>g</td>\n",
              "      <td>720.0</td>\n",
              "      <td>0</td>\n",
              "      <td>7200000</td>\n",
              "      <td>f</td>\n",
              "      <td>1</td>\n",
              "      <td>no.</td>\n",
              "    </tr>\n",
              "    <tr>\n",
              "      <th>9</th>\n",
              "      <td>b</td>\n",
              "      <td>58,58</td>\n",
              "      <td>0,000271</td>\n",
              "      <td>u</td>\n",
              "      <td>2,338491785</td>\n",
              "      <td>0,315189255</td>\n",
              "      <td>2,415</td>\n",
              "      <td>f</td>\n",
              "      <td>f</td>\n",
              "      <td>0</td>\n",
              "      <td>t</td>\n",
              "      <td>g</td>\n",
              "      <td>320.0</td>\n",
              "      <td>0</td>\n",
              "      <td>3200000</td>\n",
              "      <td>NaN</td>\n",
              "      <td>0</td>\n",
              "      <td>no.</td>\n",
              "    </tr>\n",
              "    <tr>\n",
              "      <th>10</th>\n",
              "      <td>b</td>\n",
              "      <td>19,5</td>\n",
              "      <td>0,0009585</td>\n",
              "      <td>u</td>\n",
              "      <td>0,407856831</td>\n",
              "      <td>0,909640269</td>\n",
              "      <td>0,79</td>\n",
              "      <td>f</td>\n",
              "      <td>f</td>\n",
              "      <td>0</td>\n",
              "      <td>f</td>\n",
              "      <td>g</td>\n",
              "      <td>80.0</td>\n",
              "      <td>350</td>\n",
              "      <td>8,00E+05</td>\n",
              "      <td>f</td>\n",
              "      <td>1</td>\n",
              "      <td>no.</td>\n",
              "    </tr>\n",
              "  </tbody>\n",
              "</table>\n",
              "</div>\n",
              "      <button class=\"colab-df-convert\" onclick=\"convertToInteractive('df-1cbe4d93-3580-431c-b1fd-dbb729151fb4')\"\n",
              "              title=\"Convert this dataframe to an interactive table.\"\n",
              "              style=\"display:none;\">\n",
              "        \n",
              "  <svg xmlns=\"http://www.w3.org/2000/svg\" height=\"24px\"viewBox=\"0 0 24 24\"\n",
              "       width=\"24px\">\n",
              "    <path d=\"M0 0h24v24H0V0z\" fill=\"none\"/>\n",
              "    <path d=\"M18.56 5.44l.94 2.06.94-2.06 2.06-.94-2.06-.94-.94-2.06-.94 2.06-2.06.94zm-11 1L8.5 8.5l.94-2.06 2.06-.94-2.06-.94L8.5 2.5l-.94 2.06-2.06.94zm10 10l.94 2.06.94-2.06 2.06-.94-2.06-.94-.94-2.06-.94 2.06-2.06.94z\"/><path d=\"M17.41 7.96l-1.37-1.37c-.4-.4-.92-.59-1.43-.59-.52 0-1.04.2-1.43.59L10.3 9.45l-7.72 7.72c-.78.78-.78 2.05 0 2.83L4 21.41c.39.39.9.59 1.41.59.51 0 1.02-.2 1.41-.59l7.78-7.78 2.81-2.81c.8-.78.8-2.07 0-2.86zM5.41 20L4 18.59l7.72-7.72 1.47 1.35L5.41 20z\"/>\n",
              "  </svg>\n",
              "      </button>\n",
              "      \n",
              "  <style>\n",
              "    .colab-df-container {\n",
              "      display:flex;\n",
              "      flex-wrap:wrap;\n",
              "      gap: 12px;\n",
              "    }\n",
              "\n",
              "    .colab-df-convert {\n",
              "      background-color: #E8F0FE;\n",
              "      border: none;\n",
              "      border-radius: 50%;\n",
              "      cursor: pointer;\n",
              "      display: none;\n",
              "      fill: #1967D2;\n",
              "      height: 32px;\n",
              "      padding: 0 0 0 0;\n",
              "      width: 32px;\n",
              "    }\n",
              "\n",
              "    .colab-df-convert:hover {\n",
              "      background-color: #E2EBFA;\n",
              "      box-shadow: 0px 1px 2px rgba(60, 64, 67, 0.3), 0px 1px 3px 1px rgba(60, 64, 67, 0.15);\n",
              "      fill: #174EA6;\n",
              "    }\n",
              "\n",
              "    [theme=dark] .colab-df-convert {\n",
              "      background-color: #3B4455;\n",
              "      fill: #D2E3FC;\n",
              "    }\n",
              "\n",
              "    [theme=dark] .colab-df-convert:hover {\n",
              "      background-color: #434B5C;\n",
              "      box-shadow: 0px 1px 3px 1px rgba(0, 0, 0, 0.15);\n",
              "      filter: drop-shadow(0px 1px 2px rgba(0, 0, 0, 0.3));\n",
              "      fill: #FFFFFF;\n",
              "    }\n",
              "  </style>\n",
              "\n",
              "      <script>\n",
              "        const buttonEl =\n",
              "          document.querySelector('#df-1cbe4d93-3580-431c-b1fd-dbb729151fb4 button.colab-df-convert');\n",
              "        buttonEl.style.display =\n",
              "          google.colab.kernel.accessAllowed ? 'block' : 'none';\n",
              "\n",
              "        async function convertToInteractive(key) {\n",
              "          const element = document.querySelector('#df-1cbe4d93-3580-431c-b1fd-dbb729151fb4');\n",
              "          const dataTable =\n",
              "            await google.colab.kernel.invokeFunction('convertToInteractive',\n",
              "                                                     [key], {});\n",
              "          if (!dataTable) return;\n",
              "\n",
              "          const docLinkHtml = 'Like what you see? Visit the ' +\n",
              "            '<a target=\"_blank\" href=https://colab.research.google.com/notebooks/data_table.ipynb>data table notebook</a>'\n",
              "            + ' to learn more about interactive tables.';\n",
              "          element.innerHTML = '';\n",
              "          dataTable['output_type'] = 'display_data';\n",
              "          await google.colab.output.renderOutput(dataTable, element);\n",
              "          const docLink = document.createElement('div');\n",
              "          docLink.innerHTML = docLinkHtml;\n",
              "          element.appendChild(docLink);\n",
              "        }\n",
              "      </script>\n",
              "    </div>\n",
              "  </div>\n",
              "  "
            ]
          },
          "metadata": {},
          "execution_count": 6
        }
      ]
    },
    {
      "cell_type": "markdown",
      "source": [
        "Function str2float replaces commas with dots\n"
      ],
      "metadata": {
        "id": "ouDm2QxFlG5t"
      }
    },
    {
      "cell_type": "code",
      "source": [
        "def str2float(df, col_list):\n",
        "  for col_name in col_list:\n",
        "    df[col_name] = df[col_name].apply(lambda x: float(x.replace(',', '.')))"
      ],
      "metadata": {
        "id": "iQT62gy0J4Xw"
      },
      "execution_count": null,
      "outputs": []
    },
    {
      "cell_type": "markdown",
      "source": [
        "List of column names with comma instead of dots"
      ],
      "metadata": {
        "id": "psII8yPllYYJ"
      }
    },
    {
      "cell_type": "code",
      "source": [
        "col_list = ['v2', 'v3', 'v5', 'v7', 'v6', 'v15']\n",
        "str2float(train_data, col_list)\n",
        "str2float(val_data, col_list)"
      ],
      "metadata": {
        "id": "gNSmCNRFBoM3"
      },
      "execution_count": null,
      "outputs": []
    },
    {
      "cell_type": "markdown",
      "source": [
        "Remaining columns with type 'object'"
      ],
      "metadata": {
        "id": "RAZ7fnSWVAK_"
      }
    },
    {
      "cell_type": "code",
      "source": [
        "rest_col_names = list(train_data.columns[train_data.dtypes == object])\n",
        "print(rest_col_names)"
      ],
      "metadata": {
        "id": "7Wy8ahYZRg7c",
        "colab": {
          "base_uri": "https://localhost:8080/"
        },
        "outputId": "20454566-25ab-4e9f-df09-08112d8d2947"
      },
      "execution_count": null,
      "outputs": [
        {
          "output_type": "stream",
          "name": "stdout",
          "text": [
            "['v1', 'v4', 'v8', 'v9', 'v11', 'v12', 'v16', 'classLabel']\n"
          ]
        }
      ]
    },
    {
      "cell_type": "markdown",
      "source": [
        "Analizing unique columns values"
      ],
      "metadata": {
        "id": "vYZxLQ5VmDdG"
      }
    },
    {
      "cell_type": "code",
      "source": [
        "train_data['v1'].unique()\n",
        "train_data['v4'].unique()\n",
        "train_data['v12'].unique()\n",
        "train_data['v16'].unique()\n",
        "train_data['classLabel'].unique() #v8/9/11/16\n"
      ],
      "metadata": {
        "colab": {
          "base_uri": "https://localhost:8080/"
        },
        "id": "qxY_8Nbh7Pzw",
        "outputId": "f59163c6-436c-4d84-c4be-24e9fa432d95"
      },
      "execution_count": null,
      "outputs": [
        {
          "output_type": "execute_result",
          "data": {
            "text/plain": [
              "array(['no.', 'yes.'], dtype=object)"
            ]
          },
          "metadata": {},
          "execution_count": 10
        }
      ]
    },
    {
      "cell_type": "code",
      "source": [
        "print(val_data['v17'].unique())"
      ],
      "metadata": {
        "colab": {
          "base_uri": "https://localhost:8080/"
        },
        "id": "cSHq7lDzSgla",
        "outputId": "539fed9d-9690-400a-bfa1-dfd65da25a5e"
      },
      "execution_count": null,
      "outputs": [
        {
          "output_type": "stream",
          "name": "stdout",
          "text": [
            "[1 0]\n"
          ]
        }
      ]
    },
    {
      "cell_type": "code",
      "source": [
        "print(val_data['v1'].unique())\n",
        "print(val_data['v4'].unique())\n",
        "print(val_data['v12'].unique())\n",
        "print(val_data['classLabel'].unique()) #v8/9/11/16\n",
        "print(val_data['v16'].unique())\n",
        "print(val_data['v11'].unique())\n",
        "print(val_data['v9'].unique())\n",
        "print(val_data['v8'].unique())"
      ],
      "metadata": {
        "colab": {
          "base_uri": "https://localhost:8080/"
        },
        "id": "QPhofuKUGxIs",
        "outputId": "75b66b6d-80b8-4ebb-dfd7-70ddc010313b"
      },
      "execution_count": null,
      "outputs": [
        {
          "output_type": "stream",
          "name": "stdout",
          "text": [
            "['b' 'a' nan]\n",
            "['u' 'y' nan]\n",
            "['s' 'g' 'p' 'o']\n",
            "['no.' 'yes.']\n",
            "[nan 'f' 't']\n",
            "['t' 'f']\n",
            "['f' 't']\n",
            "['t' 'f']\n"
          ]
        }
      ]
    },
    {
      "cell_type": "markdown",
      "source": [
        "v1 -> a/b   v4 -> u/y/l  v12 -> g/s/p  v8/9/11/16 -> t/f   classLabel -> yes./no."
      ],
      "metadata": {
        "id": "SPXyeVIaTOYw"
      }
    },
    {
      "cell_type": "markdown",
      "source": [
        "Dict containing data to factorize values from letters to numbers"
      ],
      "metadata": {
        "id": "hp3zxJzvlnU7"
      }
    },
    {
      "cell_type": "code",
      "source": [
        "factorize_dict = {\n",
        "    'a': 0,\n",
        "    'b': 1,\n",
        "\n",
        "    'u': 0,\n",
        "    'y': 1,\n",
        "    'l': 2,\n",
        "\n",
        "    'f': 0,\n",
        "    't': 1,\n",
        "\n",
        "    'g': 0,\n",
        "    's': 1,\n",
        "    'p': 2,\n",
        "    'o': 3,\n",
        "\n",
        "    'no.': 0,\n",
        "    'yes.': 1,\n",
        "\n",
        "    'nan': np.nan,\n",
        "    np.nan: np.nan,\n",
        "    None: np.nan\n",
        "\n",
        "}"
      ],
      "metadata": {
        "id": "zgIzwaXYFZaB"
      },
      "execution_count": null,
      "outputs": []
    },
    {
      "cell_type": "markdown",
      "source": [
        "Factorizing function"
      ],
      "metadata": {
        "id": "eioXW-3kmUbK"
      }
    },
    {
      "cell_type": "code",
      "source": [
        "def factorize(df, col_list, factorize_dict):\n",
        "  for col_name in col_list:\n",
        "    df[col_name] = df[col_name].apply(lambda x: factorize_dict[x])"
      ],
      "metadata": {
        "id": "Shp2O0-9Tl7w"
      },
      "execution_count": null,
      "outputs": []
    },
    {
      "cell_type": "code",
      "source": [
        "factorize(train_data, rest_col_names, factorize_dict)\n",
        "factorize(val_data, rest_col_names, factorize_dict)"
      ],
      "metadata": {
        "id": "--wC4jk4UoUX"
      },
      "execution_count": null,
      "outputs": []
    },
    {
      "cell_type": "code",
      "source": [
        "train_data.dtypes"
      ],
      "metadata": {
        "colab": {
          "base_uri": "https://localhost:8080/"
        },
        "id": "2edI-r2u9fyl",
        "outputId": "b4f3a9f7-563c-4283-8637-507974edad83"
      },
      "execution_count": null,
      "outputs": [
        {
          "output_type": "execute_result",
          "data": {
            "text/plain": [
              "v1            float64\n",
              "v2            float64\n",
              "v3            float64\n",
              "v4            float64\n",
              "v5            float64\n",
              "v6            float64\n",
              "v7            float64\n",
              "v8              int64\n",
              "v9              int64\n",
              "v10             int64\n",
              "v11             int64\n",
              "v12             int64\n",
              "v13           float64\n",
              "v14             int64\n",
              "v15           float64\n",
              "v16           float64\n",
              "v17             int64\n",
              "classLabel      int64\n",
              "dtype: object"
            ]
          },
          "metadata": {},
          "execution_count": 16
        }
      ]
    },
    {
      "cell_type": "markdown",
      "source": [
        "Creating correlation matrix"
      ],
      "metadata": {
        "id": "oFeWo12EmZbs"
      }
    },
    {
      "cell_type": "code",
      "source": [
        "train_corr = train_data.corr()\n",
        "val_corr = val_data.corr()"
      ],
      "metadata": {
        "id": "UBTP-YKlZot3"
      },
      "execution_count": null,
      "outputs": []
    },
    {
      "cell_type": "code",
      "source": [
        "sns.heatmap(data=train_corr)"
      ],
      "metadata": {
        "colab": {
          "base_uri": "https://localhost:8080/",
          "height": 510
        },
        "id": "uWhLZJXBE5Y7",
        "outputId": "50397e53-72f3-4cab-94cf-9b7476abf8f5"
      },
      "execution_count": null,
      "outputs": [
        {
          "output_type": "execute_result",
          "data": {
            "text/plain": [
              "<Axes: >"
            ]
          },
          "metadata": {},
          "execution_count": 18
        },
        {
          "output_type": "display_data",
          "data": {
            "text/plain": [
              "<Figure size 640x480 with 2 Axes>"
            ],
            "image/png": "[encoded data removed]"
          },
          "metadata": {}
        }
      ]
    },
    {
      "cell_type": "code",
      "source": [
        "sns.heatmap(data=val_corr)"
      ],
      "metadata": {
        "colab": {
          "base_uri": "https://localhost:8080/",
          "height": 510
        },
        "id": "7-a-SHwOTCg7",
        "outputId": "d50efb11-2fa9-4ff8-934f-9d99f22b1439"
      },
      "execution_count": null,
      "outputs": [
        {
          "output_type": "execute_result",
          "data": {
            "text/plain": [
              "<Axes: >"
            ]
          },
          "metadata": {},
          "execution_count": 19
        },
        {
          "output_type": "display_data",
          "data": {
            "text/plain": [
              "<Figure size 640x480 with 2 Axes>"
            ],
            "image/png": "[encoded data removed]"
          },
          "metadata": {}
        }
      ]
    },
    {
      "cell_type": "markdown",
      "source": [
        "Variable v17 is lineary correlated with output value. Same thing occured in pairs v9 & v16 and v13 & v15. This means one the variables from each pair can be discarded, because it doesn't bring any new information.\n",
        "I decided to compare two models: first one based solely on varaiable v17 and second one based on selected variables including v17."
      ],
      "metadata": {
        "id": "B3qLa-eNaaPY"
      }
    },
    {
      "cell_type": "markdown",
      "source": [
        "v17 is repeated class label, in validation data there is nop correlation between output value and v17"
      ],
      "metadata": {
        "id": "ZJwnYC_JUvy7"
      }
    },
    {
      "cell_type": "markdown",
      "source": [
        "Code below creates a plot for none values of correlated variables pairs."
      ],
      "metadata": {
        "id": "3Ns11rRND38x"
      }
    },
    {
      "cell_type": "code",
      "source": [
        "from bokeh.plotting import figure, show, output_file\n",
        "title = 'wykresik5.html'\n",
        "output_file(title)\n",
        "p = figure(plot_width=600, plot_height=300, toolbar_location='above',title = 'wykresik')\n",
        "p.background_fill_color='#faf9fa'\n",
        "\n",
        "data_v16_nulls = train_data['v16'].copy()\n",
        "data_v16_nulls[train_data['v16'].isnull()] = 1\n",
        "data_v16_nulls[train_data['v16'].notnull()] = None\n",
        "\n",
        "data_v9_nulls = train_data['v9'].copy()\n",
        "data_v9_nulls[train_data['v9'].isnull()] = 2\n",
        "data_v9_nulls[train_data['v9'].notnull()] = None\n",
        "\n",
        "data_v13_nulls = train_data['v13'].copy()\n",
        "data_v13_nulls[train_data['v13'].isnull()] = 3\n",
        "data_v13_nulls[train_data['v13'].notnull()] = None\n",
        "\n",
        "data_v15_nulls = train_data['v15'].copy()\n",
        "data_v15_nulls[train_data['v15'].isnull()] = 4\n",
        "data_v15_nulls[train_data['v15'].notnull()] = None\n",
        "\n",
        "\n",
        "p.scatter(x=train_data.index, y=data_v9_nulls, color=\"red\", size=12, legend_label='v9')\n",
        "p.scatter(x=train_data.index, y=data_v16_nulls, color=\"blue\", size=10, legend_label='v16')\n",
        "p.scatter(x=train_data.index, y=data_v15_nulls, color=\"green\", size=6, legend_label='v15')\n",
        "p.scatter(x=train_data.index, y=data_v13_nulls, color=\"pink\", size=4, legend_label='v13')\n",
        "\n",
        "\n",
        "\n",
        "p.yaxis.axis_label='Variable'\n",
        "p.yaxis.axis_label_text_color='red'\n",
        "p.xaxis.axis_label='index'\n",
        "p.xaxis.axis_label_text_color = 'red'\n",
        "\n",
        "show(p)"
      ],
      "metadata": {
        "id": "_nlcPvj500Qt"
      },
      "execution_count": null,
      "outputs": []
    },
    {
      "cell_type": "markdown",
      "source": [
        "Plot wykresik variable v16 has many data gaps. Variable 9 and 16 are correlated with coef = 1 and v9 is complete. I will remove v13, because v13 and v15 lack data with the same indices."
      ],
      "metadata": {
        "id": "JCt3zAIFCQ4b"
      }
    },
    {
      "cell_type": "markdown",
      "source": [
        "Deleting excessive columns"
      ],
      "metadata": {
        "id": "HFENvhFlFUeQ"
      }
    },
    {
      "cell_type": "code",
      "source": [
        "train_data = train_data.drop(['v16', 'v13', 'v17'], axis = 1)\n",
        "val_data = val_data.drop(['v16', 'v13', 'v17'], axis = 1)"
      ],
      "metadata": {
        "id": "NEmC_lb3JWeo"
      },
      "execution_count": null,
      "outputs": []
    },
    {
      "cell_type": "code",
      "source": [
        "len(val_data.index)"
      ],
      "metadata": {
        "colab": {
          "base_uri": "https://localhost:8080/"
        },
        "id": "YNy41p5LPOfT",
        "outputId": "ccc1f119-70ce-4b75-a51a-ae9ba747d7df"
      },
      "execution_count": null,
      "outputs": [
        {
          "output_type": "execute_result",
          "data": {
            "text/plain": [
              "191"
            ]
          },
          "metadata": {},
          "execution_count": 320
        }
      ]
    },
    {
      "cell_type": "markdown",
      "source": [
        "Deleting rows with None"
      ],
      "metadata": {
        "id": "mmXy27mxFP9L"
      }
    },
    {
      "cell_type": "code",
      "source": [
        "train_data = train_data.dropna()\n",
        "val_data = val_data.dropna()"
      ],
      "metadata": {
        "id": "GAJrZn6h-8V0"
      },
      "execution_count": null,
      "outputs": []
    },
    {
      "cell_type": "markdown",
      "source": [
        "Number of rows for each class"
      ],
      "metadata": {
        "id": "A1R4mFRHFGru"
      }
    },
    {
      "cell_type": "code",
      "source": [
        "train_data[train_data['classLabel']==1]['classLabel'].count()"
      ],
      "metadata": {
        "colab": {
          "base_uri": "https://localhost:8080/"
        },
        "id": "Jq6YOfcebY-z",
        "outputId": "107f0ff3-fe16-4468-db2f-a75e3dc35bcf"
      },
      "execution_count": null,
      "outputs": [
        {
          "output_type": "execute_result",
          "data": {
            "text/plain": [
              "3264"
            ]
          },
          "metadata": {},
          "execution_count": 314
        }
      ]
    },
    {
      "cell_type": "code",
      "source": [
        "number_of_samples = train_data[train_data['classLabel']==0]['classLabel'].count()"
      ],
      "metadata": {
        "id": "RgL5fshEbYH-"
      },
      "execution_count": null,
      "outputs": []
    },
    {
      "cell_type": "code",
      "source": [
        "number_of_samples"
      ],
      "metadata": {
        "colab": {
          "base_uri": "https://localhost:8080/"
        },
        "id": "rKSL_WUx90NN",
        "outputId": "51533288-cccc-4529-d9ed-8ba4740bf20d"
      },
      "execution_count": null,
      "outputs": [
        {
          "output_type": "execute_result",
          "data": {
            "text/plain": [
              "259"
            ]
          },
          "metadata": {},
          "execution_count": 338
        }
      ]
    },
    {
      "cell_type": "markdown",
      "source": [
        "Most correlated variables in training data"
      ],
      "metadata": {
        "id": "nWUud0eMTJzj"
      }
    },
    {
      "cell_type": "code",
      "source": [
        "train_corr = train_data.corr()\n",
        "sorted_mat = train_corr.unstack().sort_values(ascending = False)['classLabel']\n",
        "sorted_mat.keys()\n",
        "best_variables = train_corr.unstack()['classLabel'].nlargest(n=6)\n",
        "print(best_variables.index.values)\n",
        "best_variables_col = best_variables.index.values"
      ],
      "metadata": {
        "colab": {
          "base_uri": "https://localhost:8080/"
        },
        "id": "hoKmMz5KH_i1",
        "outputId": "f79044b7-c688-41a8-dc2e-b1f749c5ef0a"
      },
      "execution_count": null,
      "outputs": [
        {
          "output_type": "stream",
          "name": "stdout",
          "text": [
            "['classLabel' 'v8' 'v6' 'v9' 'v10' 'v7']\n"
          ]
        }
      ]
    },
    {
      "cell_type": "markdown",
      "source": [
        "Oversampling"
      ],
      "metadata": {
        "id": "cERL8qvsH-rY"
      }
    },
    {
      "cell_type": "code",
      "source": [
        "from imblearn.over_sampling import SMOTE, ADASYN\n",
        "from collections import Counter\n",
        "from sklearn.svm import LinearSVC\n",
        "\n",
        "\n",
        "X_resampled, y_resampled = SMOTE().fit_resample(train_data.drop(columns = ['classLabel']), train_data['classLabel'])\n",
        "print(sorted(Counter(y_resampled).items()))\n",
        "clf_smote = LinearSVC().fit(X_resampled, y_resampled)\n",
        "X_resampled, y_resampled = ADASYN().fit_resample(train_data.drop(columns = ['classLabel']), train_data['classLabel'])\n",
        "print(sorted(Counter(y_resampled).items()))\n",
        "clf_adasyn = LinearSVC().fit(X_resampled, y_resampled)"
      ],
      "metadata": {
        "colab": {
          "base_uri": "https://localhost:8080/"
        },
        "id": "rDql4fzYH-Il",
        "outputId": "3a1c7f1a-7193-459f-86d0-4491882ba3f7"
      },
      "execution_count": null,
      "outputs": [
        {
          "output_type": "stream",
          "name": "stdout",
          "text": [
            "[(0, 518), (1, 518)]\n",
            "[(0, 518), (1, 518)]\n"
          ]
        },
        {
          "output_type": "stream",
          "name": "stderr",
          "text": [
            "/usr/local/lib/python3.9/dist-packages/sklearn/svm/_base.py:1244: ConvergenceWarning: Liblinear failed to converge, increase the number of iterations.\n",
            "  warnings.warn(\n",
            "/usr/local/lib/python3.9/dist-packages/sklearn/svm/_base.py:1244: ConvergenceWarning: Liblinear failed to converge, increase the number of iterations.\n",
            "  warnings.warn(\n"
          ]
        }
      ]
    },
    {
      "cell_type": "code",
      "source": [
        "train_data_resampled = pd.concat([X_resampled, y_resampled], axis=1, join='inner')"
      ],
      "metadata": {
        "id": "x2JCj7GrJ4vU"
      },
      "execution_count": null,
      "outputs": []
    },
    {
      "cell_type": "code",
      "source": [
        "train_data_resampled_0 = train_data_resampled[train_data_resampled['classLabel']==0]"
      ],
      "metadata": {
        "id": "npKLpz1sPwXG"
      },
      "execution_count": null,
      "outputs": []
    },
    {
      "cell_type": "markdown",
      "source": [
        "Under sampling"
      ],
      "metadata": {
        "id": "BovjtuUVk3yt"
      }
    },
    {
      "cell_type": "code",
      "source": [
        "train_data_0 = train_data[train_data['classLabel']==0]\n",
        "train_data_1 = train_data[train_data['classLabel']==1]"
      ],
      "metadata": {
        "id": "5pMPIF_dcFzJ"
      },
      "execution_count": null,
      "outputs": []
    },
    {
      "cell_type": "code",
      "source": [
        "train_data_1 = train_data_1.sample(n = 2*number_of_samples)"
      ],
      "metadata": {
        "id": "RyrL470acQGl"
      },
      "execution_count": null,
      "outputs": []
    },
    {
      "cell_type": "code",
      "source": [
        "train_data_0 = pd.concat([train_data_0, train_data_resampled_0.sample(n = number_of_samples)])"
      ],
      "metadata": {
        "id": "IsgoOtS-MF6D"
      },
      "execution_count": null,
      "outputs": []
    },
    {
      "cell_type": "code",
      "source": [
        "train_data = pd.concat([train_data_1, train_data_0])"
      ],
      "metadata": {
        "id": "baXS2rtQcnqo"
      },
      "execution_count": null,
      "outputs": []
    },
    {
      "cell_type": "code",
      "source": [
        "train_data = train_data[best_variables_col]\n",
        "val_data = val_data[best_variables_col]"
      ],
      "metadata": {
        "id": "M5qvnWAGXhF6"
      },
      "execution_count": null,
      "outputs": []
    },
    {
      "cell_type": "markdown",
      "source": [
        "Standarizing data "
      ],
      "metadata": {
        "id": "WrtBSzymFm7x"
      }
    },
    {
      "cell_type": "code",
      "source": [
        "from sklearn.preprocessing import StandardScaler\n",
        "sc = StandardScaler()\n",
        "Y_train = train_data['classLabel']\n",
        "train_data_x = train_data.drop(columns = ['classLabel'])\n",
        "\n",
        "\n",
        "Y_test = val_data['classLabel']\n",
        "val_data_x  = val_data.drop(columns = ['classLabel'])\n",
        "\n",
        "\n",
        "#X_train = train_data_x\n",
        "#X_test = val_data_x\n",
        "X_train = sc.fit_transform(train_data_x)\n",
        "X_test = sc.transform(val_data_x)"
      ],
      "metadata": {
        "id": "QHsaQHznaGhu"
      },
      "execution_count": null,
      "outputs": []
    },
    {
      "cell_type": "markdown",
      "source": [
        "KNN classifier"
      ],
      "metadata": {
        "id": "lXCF-V16GMld"
      }
    },
    {
      "cell_type": "code",
      "source": [
        "knn = KNeighborsClassifier(n_neighbors=7)\n",
        "knn.fit(X_train, Y_train)\n",
        "\n",
        "y_pred = knn.predict(X_test)\n",
        "\n",
        "accuracy = accuracy_score(Y_test, y_pred)\n",
        "print(\"Accuracy:\", accuracy)"
      ],
      "metadata": {
        "colab": {
          "base_uri": "https://localhost:8080/"
        },
        "id": "o8kYa-hP307X",
        "outputId": "cc3c4ff6-9252-4020-9e6b-26217020892e"
      },
      "execution_count": null,
      "outputs": [
        {
          "output_type": "stream",
          "name": "stdout",
          "text": [
            "Accuracy: 0.837696335078534\n"
          ]
        }
      ]
    },
    {
      "cell_type": "code",
      "source": [
        "cm = confusion_matrix(Y_test, y_pred)\n",
        "cm_display = metrics.ConfusionMatrixDisplay(confusion_matrix = cm, display_labels = [False, True])\n",
        "\n",
        "cm_display.plot()\n",
        "plt.show()"
      ],
      "metadata": {
        "colab": {
          "base_uri": "https://localhost:8080/",
          "height": 449
        },
        "id": "Xl_MYCtBA8fj",
        "outputId": "e6280da5-ff31-4c97-a44d-4a09fc255a80"
      },
      "execution_count": null,
      "outputs": [
        {
          "output_type": "display_data",
          "data": {
            "text/plain": [
              "<Figure size 640x480 with 2 Axes>"
            ],
            "image/png": "[encoded data removed]"
          },
          "metadata": {}
        }
      ]
    },
    {
      "cell_type": "markdown",
      "source": [
        "KNN bagging"
      ],
      "metadata": {
        "id": "jOW0Qg-o3G9U"
      }
    },
    {
      "cell_type": "code",
      "source": [
        "from sklearn.model_selection import GridSearchCV\n",
        "\n",
        "parameters = {\"n_neighbors\": range(1, 50)}\n",
        "gridsearch = GridSearchCV(KNeighborsClassifier(), parameters)\n",
        "gridsearch.fit(X_train, Y_train)"
      ],
      "metadata": {
        "colab": {
          "base_uri": "https://localhost:8080/",
          "height": 118
        },
        "id": "5W3bk53i3JZu",
        "outputId": "0a4b3d47-0840-43d2-a8a7-8d461168cbd3"
      },
      "execution_count": null,
      "outputs": [
        {
          "output_type": "execute_result",
          "data": {
            "text/plain": [
              "GridSearchCV(estimator=KNeighborsClassifier(),\n",
              "             param_grid={'n_neighbors': range(1, 50)})"
            ],
            "text/html": [
              "<style>#sk-container-id-12 {color: black;background-color: white;}#sk-container-id-12 pre{padding: 0;}#sk-container-id-12 div.sk-toggleable {background-color: white;}#sk-container-id-12 label.sk-toggleable__label {cursor: pointer;display: block;width: 100%;margin-bottom: 0;padding: 0.3em;box-sizing: border-box;text-align: center;}#sk-container-id-12 label.sk-toggleable__label-arrow:before {content: \"▸\";float: left;margin-right: 0.25em;color: #696969;}#sk-container-id-12 label.sk-toggleable__label-arrow:hover:before {color: black;}#sk-container-id-12 div.sk-estimator:hover label.sk-toggleable__label-arrow:before {color: black;}#sk-container-id-12 div.sk-toggleable__content {max-height: 0;max-width: 0;overflow: hidden;text-align: left;background-color: #f0f8ff;}#sk-container-id-12 div.sk-toggleable__content pre {margin: 0.2em;color: black;border-radius: 0.25em;background-color: #f0f8ff;}#sk-container-id-12 input.sk-toggleable__control:checked~div.sk-toggleable__content {max-height: 200px;max-width: 100%;overflow: auto;}#sk-container-id-12 input.sk-toggleable__control:checked~label.sk-toggleable__label-arrow:before {content: \"▾\";}#sk-container-id-12 div.sk-estimator input.sk-toggleable__control:checked~label.sk-toggleable__label {background-color: #d4ebff;}#sk-container-id-12 div.sk-label input.sk-toggleable__control:checked~label.sk-toggleable__label {background-color: #d4ebff;}#sk-container-id-12 input.sk-hidden--visually {border: 0;clip: rect(1px 1px 1px 1px);clip: rect(1px, 1px, 1px, 1px);height: 1px;margin: -1px;overflow: hidden;padding: 0;position: absolute;width: 1px;}#sk-container-id-12 div.sk-estimator {font-family: monospace;background-color: #f0f8ff;border: 1px dotted black;border-radius: 0.25em;box-sizing: border-box;margin-bottom: 0.5em;}#sk-container-id-12 div.sk-estimator:hover {background-color: #d4ebff;}#sk-container-id-12 div.sk-parallel-item::after {content: \"\";width: 100%;border-bottom: 1px solid gray;flex-grow: 1;}#sk-container-id-12 div.sk-label:hover label.sk-toggleable__label {background-color: #d4ebff;}#sk-container-id-12 div.sk-serial::before {content: \"\";position: absolute;border-left: 1px solid gray;box-sizing: border-box;top: 0;bottom: 0;left: 50%;z-index: 0;}#sk-container-id-12 div.sk-serial {display: flex;flex-direction: column;align-items: center;background-color: white;padding-right: 0.2em;padding-left: 0.2em;position: relative;}#sk-container-id-12 div.sk-item {position: relative;z-index: 1;}#sk-container-id-12 div.sk-parallel {display: flex;align-items: stretch;justify-content: center;background-color: white;position: relative;}#sk-container-id-12 div.sk-item::before, #sk-container-id-12 div.sk-parallel-item::before {content: \"\";position: absolute;border-left: 1px solid gray;box-sizing: border-box;top: 0;bottom: 0;left: 50%;z-index: -1;}#sk-container-id-12 div.sk-parallel-item {display: flex;flex-direction: column;z-index: 1;position: relative;background-color: white;}#sk-container-id-12 div.sk-parallel-item:first-child::after {align-self: flex-end;width: 50%;}#sk-container-id-12 div.sk-parallel-item:last-child::after {align-self: flex-start;width: 50%;}#sk-container-id-12 div.sk-parallel-item:only-child::after {width: 0;}#sk-container-id-12 div.sk-dashed-wrapped {border: 1px dashed gray;margin: 0 0.4em 0.5em 0.4em;box-sizing: border-box;padding-bottom: 0.4em;background-color: white;}#sk-container-id-12 div.sk-label label {font-family: monospace;font-weight: bold;display: inline-block;line-height: 1.2em;}#sk-container-id-12 div.sk-label-container {text-align: center;}#sk-container-id-12 div.sk-container {/* jupyter's `normalize.less` sets `[hidden] { display: none; }` but bootstrap.min.css set `[hidden] { display: none !important; }` so we also need the `!important` here to be able to override the default hidden behavior on the sphinx rendered scikit-learn.org. See: https://github.com/scikit-learn/scikit-learn/issues/21755 */display: inline-block !important;position: relative;}#sk-container-id-12 div.sk-text-repr-fallback {display: none;}</style><div id=\"sk-container-id-12\" class=\"sk-top-container\"><div class=\"sk-text-repr-fallback\"><pre>GridSearchCV(estimator=KNeighborsClassifier(),\n",
              "             param_grid={&#x27;n_neighbors&#x27;: range(1, 50)})</pre><b>In a Jupyter environment, please rerun this cell to show the HTML representation or trust the notebook. <br />On GitHub, the HTML representation is unable to render, please try loading this page with nbviewer.org.</b></div><div class=\"sk-container\" hidden><div class=\"sk-item sk-dashed-wrapped\"><div class=\"sk-label-container\"><div class=\"sk-label sk-toggleable\"><input class=\"sk-toggleable__control sk-hidden--visually\" id=\"sk-estimator-id-32\" type=\"checkbox\" ><label for=\"sk-estimator-id-32\" class=\"sk-toggleable__label sk-toggleable__label-arrow\">GridSearchCV</label><div class=\"sk-toggleable__content\"><pre>GridSearchCV(estimator=KNeighborsClassifier(),\n",
              "             param_grid={&#x27;n_neighbors&#x27;: range(1, 50)})</pre></div></div></div><div class=\"sk-parallel\"><div class=\"sk-parallel-item\"><div class=\"sk-item\"><div class=\"sk-label-container\"><div class=\"sk-label sk-toggleable\"><input class=\"sk-toggleable__control sk-hidden--visually\" id=\"sk-estimator-id-33\" type=\"checkbox\" ><label for=\"sk-estimator-id-33\" class=\"sk-toggleable__label sk-toggleable__label-arrow\">estimator: KNeighborsClassifier</label><div class=\"sk-toggleable__content\"><pre>KNeighborsClassifier()</pre></div></div></div><div class=\"sk-serial\"><div class=\"sk-item\"><div class=\"sk-estimator sk-toggleable\"><input class=\"sk-toggleable__control sk-hidden--visually\" id=\"sk-estimator-id-34\" type=\"checkbox\" ><label for=\"sk-estimator-id-34\" class=\"sk-toggleable__label sk-toggleable__label-arrow\">KNeighborsClassifier</label><div class=\"sk-toggleable__content\"><pre>KNeighborsClassifier()</pre></div></div></div></div></div></div></div></div></div></div>"
            ]
          },
          "metadata": {},
          "execution_count": 346
        }
      ]
    },
    {
      "cell_type": "code",
      "source": [
        "parameters = {\"n_neighbors\": range(1, 50), \"weights\": [\"uniform\", \"distance\"],}\n",
        "gridsearch = GridSearchCV(KNeighborsClassifier(), parameters)\n",
        "gridsearch.fit(X_train, Y_train)\n",
        "\n",
        "print(gridsearch.best_params_)\n",
        "best_k = gridsearch.best_params_[\"n_neighbors\"]\n",
        "best_weights = gridsearch.best_params_[\"weights\"]"
      ],
      "metadata": {
        "colab": {
          "base_uri": "https://localhost:8080/"
        },
        "id": "ZNHXoKTZ4TTA",
        "outputId": "fac55c6c-0d7b-4f2e-9c27-8f26dccd75e9"
      },
      "execution_count": null,
      "outputs": [
        {
          "output_type": "stream",
          "name": "stdout",
          "text": [
            "{'n_neighbors': 13, 'weights': 'uniform'}\n"
          ]
        }
      ]
    },
    {
      "cell_type": "code",
      "source": [
        "from sklearn.ensemble import BaggingClassifier\n",
        "bagged_knn = KNeighborsClassifier(n_neighbors=best_k, weights=best_weights)\n",
        "bagging_model = BaggingClassifier(bagged_knn, n_estimators=100)\n",
        "bagging_model.fit(X_train, Y_train)"
      ],
      "metadata": {
        "colab": {
          "base_uri": "https://localhost:8080/",
          "height": 118
        },
        "id": "5QMHni4y3953",
        "outputId": "7bff13cd-56f1-4558-da5e-f46654410e03"
      },
      "execution_count": null,
      "outputs": [
        {
          "output_type": "execute_result",
          "data": {
            "text/plain": [
              "BaggingClassifier(estimator=KNeighborsClassifier(n_neighbors=13),\n",
              "                  n_estimators=100)"
            ],
            "text/html": [
              "<style>#sk-container-id-13 {color: black;background-color: white;}#sk-container-id-13 pre{padding: 0;}#sk-container-id-13 div.sk-toggleable {background-color: white;}#sk-container-id-13 label.sk-toggleable__label {cursor: pointer;display: block;width: 100%;margin-bottom: 0;padding: 0.3em;box-sizing: border-box;text-align: center;}#sk-container-id-13 label.sk-toggleable__label-arrow:before {content: \"▸\";float: left;margin-right: 0.25em;color: #696969;}#sk-container-id-13 label.sk-toggleable__label-arrow:hover:before {color: black;}#sk-container-id-13 div.sk-estimator:hover label.sk-toggleable__label-arrow:before {color: black;}#sk-container-id-13 div.sk-toggleable__content {max-height: 0;max-width: 0;overflow: hidden;text-align: left;background-color: #f0f8ff;}#sk-container-id-13 div.sk-toggleable__content pre {margin: 0.2em;color: black;border-radius: 0.25em;background-color: #f0f8ff;}#sk-container-id-13 input.sk-toggleable__control:checked~div.sk-toggleable__content {max-height: 200px;max-width: 100%;overflow: auto;}#sk-container-id-13 input.sk-toggleable__control:checked~label.sk-toggleable__label-arrow:before {content: \"▾\";}#sk-container-id-13 div.sk-estimator input.sk-toggleable__control:checked~label.sk-toggleable__label {background-color: #d4ebff;}#sk-container-id-13 div.sk-label input.sk-toggleable__control:checked~label.sk-toggleable__label {background-color: #d4ebff;}#sk-container-id-13 input.sk-hidden--visually {border: 0;clip: rect(1px 1px 1px 1px);clip: rect(1px, 1px, 1px, 1px);height: 1px;margin: -1px;overflow: hidden;padding: 0;position: absolute;width: 1px;}#sk-container-id-13 div.sk-estimator {font-family: monospace;background-color: #f0f8ff;border: 1px dotted black;border-radius: 0.25em;box-sizing: border-box;margin-bottom: 0.5em;}#sk-container-id-13 div.sk-estimator:hover {background-color: #d4ebff;}#sk-container-id-13 div.sk-parallel-item::after {content: \"\";width: 100%;border-bottom: 1px solid gray;flex-grow: 1;}#sk-container-id-13 div.sk-label:hover label.sk-toggleable__label {background-color: #d4ebff;}#sk-container-id-13 div.sk-serial::before {content: \"\";position: absolute;border-left: 1px solid gray;box-sizing: border-box;top: 0;bottom: 0;left: 50%;z-index: 0;}#sk-container-id-13 div.sk-serial {display: flex;flex-direction: column;align-items: center;background-color: white;padding-right: 0.2em;padding-left: 0.2em;position: relative;}#sk-container-id-13 div.sk-item {position: relative;z-index: 1;}#sk-container-id-13 div.sk-parallel {display: flex;align-items: stretch;justify-content: center;background-color: white;position: relative;}#sk-container-id-13 div.sk-item::before, #sk-container-id-13 div.sk-parallel-item::before {content: \"\";position: absolute;border-left: 1px solid gray;box-sizing: border-box;top: 0;bottom: 0;left: 50%;z-index: -1;}#sk-container-id-13 div.sk-parallel-item {display: flex;flex-direction: column;z-index: 1;position: relative;background-color: white;}#sk-container-id-13 div.sk-parallel-item:first-child::after {align-self: flex-end;width: 50%;}#sk-container-id-13 div.sk-parallel-item:last-child::after {align-self: flex-start;width: 50%;}#sk-container-id-13 div.sk-parallel-item:only-child::after {width: 0;}#sk-container-id-13 div.sk-dashed-wrapped {border: 1px dashed gray;margin: 0 0.4em 0.5em 0.4em;box-sizing: border-box;padding-bottom: 0.4em;background-color: white;}#sk-container-id-13 div.sk-label label {font-family: monospace;font-weight: bold;display: inline-block;line-height: 1.2em;}#sk-container-id-13 div.sk-label-container {text-align: center;}#sk-container-id-13 div.sk-container {/* jupyter's `normalize.less` sets `[hidden] { display: none; }` but bootstrap.min.css set `[hidden] { display: none !important; }` so we also need the `!important` here to be able to override the default hidden behavior on the sphinx rendered scikit-learn.org. See: https://github.com/scikit-learn/scikit-learn/issues/21755 */display: inline-block !important;position: relative;}#sk-container-id-13 div.sk-text-repr-fallback {display: none;}</style><div id=\"sk-container-id-13\" class=\"sk-top-container\"><div class=\"sk-text-repr-fallback\"><pre>BaggingClassifier(estimator=KNeighborsClassifier(n_neighbors=13),\n",
              "                  n_estimators=100)</pre><b>In a Jupyter environment, please rerun this cell to show the HTML representation or trust the notebook. <br />On GitHub, the HTML representation is unable to render, please try loading this page with nbviewer.org.</b></div><div class=\"sk-container\" hidden><div class=\"sk-item sk-dashed-wrapped\"><div class=\"sk-label-container\"><div class=\"sk-label sk-toggleable\"><input class=\"sk-toggleable__control sk-hidden--visually\" id=\"sk-estimator-id-35\" type=\"checkbox\" ><label for=\"sk-estimator-id-35\" class=\"sk-toggleable__label sk-toggleable__label-arrow\">BaggingClassifier</label><div class=\"sk-toggleable__content\"><pre>BaggingClassifier(estimator=KNeighborsClassifier(n_neighbors=13),\n",
              "                  n_estimators=100)</pre></div></div></div><div class=\"sk-parallel\"><div class=\"sk-parallel-item\"><div class=\"sk-item\"><div class=\"sk-label-container\"><div class=\"sk-label sk-toggleable\"><input class=\"sk-toggleable__control sk-hidden--visually\" id=\"sk-estimator-id-36\" type=\"checkbox\" ><label for=\"sk-estimator-id-36\" class=\"sk-toggleable__label sk-toggleable__label-arrow\">estimator: KNeighborsClassifier</label><div class=\"sk-toggleable__content\"><pre>KNeighborsClassifier(n_neighbors=13)</pre></div></div></div><div class=\"sk-serial\"><div class=\"sk-item\"><div class=\"sk-estimator sk-toggleable\"><input class=\"sk-toggleable__control sk-hidden--visually\" id=\"sk-estimator-id-37\" type=\"checkbox\" ><label for=\"sk-estimator-id-37\" class=\"sk-toggleable__label sk-toggleable__label-arrow\">KNeighborsClassifier</label><div class=\"sk-toggleable__content\"><pre>KNeighborsClassifier(n_neighbors=13)</pre></div></div></div></div></div></div></div></div></div></div>"
            ]
          },
          "metadata": {},
          "execution_count": 348
        }
      ]
    },
    {
      "cell_type": "code",
      "source": [
        "test_preds_grid = bagging_model.predict(X_test)\n",
        "cm = confusion_matrix(Y_test, test_preds_grid)\n",
        "cm_display = metrics.ConfusionMatrixDisplay(confusion_matrix = cm, display_labels = [False, True])\n",
        "cm_display.plot()\n",
        "plt.show()\n",
        "accuracy = accuracy_score(Y_test, y_pred)\n",
        "print(\"Accuracy:\", accuracy)"
      ],
      "metadata": {
        "colab": {
          "base_uri": "https://localhost:8080/",
          "height": 466
        },
        "id": "WLCn4noN6T-6",
        "outputId": "edf91acd-8409-482f-df6b-42ea3f553a51"
      },
      "execution_count": null,
      "outputs": [
        {
          "output_type": "display_data",
          "data": {
            "text/plain": [
              "<Figure size 640x480 with 2 Axes>"
            ],
            "image/png": "[encoded data removed]"
          },
          "metadata": {}
        },
        {
          "output_type": "stream",
          "name": "stdout",
          "text": [
            "Accuracy: 0.8481675392670157\n"
          ]
        }
      ]
    },
    {
      "cell_type": "markdown",
      "source": [
        "PCA"
      ],
      "metadata": {
        "id": "-PCSJdQUGS-5"
      }
    },
    {
      "cell_type": "code",
      "source": [
        "# Applying PCA function on training\n",
        "# and testing set of X component\n",
        "from sklearn.decomposition import PCA\n",
        " \n",
        "sc = StandardScaler()\n",
        "Y_train = train_data['classLabel']\n",
        "train_data_x = train_data.drop(columns = ['classLabel'])\n",
        "Y_test = val_data['classLabel']\n",
        "val_data_x  = val_data.drop(columns = ['classLabel'])\n",
        "\n",
        "X_train = sc.fit_transform(train_data_x)\n",
        "X_test = sc.transform(val_data_x)\n",
        "\n",
        "pca = PCA(n_components = 2)\n",
        " \n",
        "X_train = pca.fit_transform(X_train)\n",
        "X_test = pca.transform(X_test)\n",
        " \n",
        "explained_variance = pca.explained_variance_ratio_"
      ],
      "metadata": {
        "id": "eZZnDJIBhpMp"
      },
      "execution_count": null,
      "outputs": []
    },
    {
      "cell_type": "code",
      "source": [
        "explained_variance"
      ],
      "metadata": {
        "colab": {
          "base_uri": "https://localhost:8080/"
        },
        "id": "OmgwIr48hvCa",
        "outputId": "228ca9dd-1e20-4a09-881a-ecb1fc0e2de4"
      },
      "execution_count": null,
      "outputs": [
        {
          "output_type": "execute_result",
          "data": {
            "text/plain": [
              "array([0.19966001, 0.10301551])"
            ]
          },
          "metadata": {},
          "execution_count": 189
        }
      ]
    },
    {
      "cell_type": "code",
      "source": [
        "knn = KNeighborsClassifier(n_neighbors=7)\n",
        "knn.fit(X_train, Y_train)\n",
        "\n",
        "y_pred = knn.predict(X_test)\n",
        "\n",
        "accuracy = accuracy_score(Y_test, y_pred)\n",
        "print(\"Accuracy:\", accuracy)"
      ],
      "metadata": {
        "colab": {
          "base_uri": "https://localhost:8080/"
        },
        "id": "0khyspnZTlNI",
        "outputId": "f70beb84-8175-4c7b-e68a-1048087eb0d8"
      },
      "execution_count": null,
      "outputs": [
        {
          "output_type": "stream",
          "name": "stdout",
          "text": [
            "Accuracy: 0.7801047120418848\n"
          ]
        }
      ]
    },
    {
      "cell_type": "markdown",
      "source": [
        "Logistic Regression"
      ],
      "metadata": {
        "id": "hUXBN56SG0Gu"
      }
    },
    {
      "cell_type": "code",
      "source": [
        "# Fitting Logistic Regression To the training set\n",
        "from sklearn.linear_model import LogisticRegression \n",
        " \n",
        "classifier = LogisticRegression(random_state = 0)\n",
        "classifier.fit(X_train, Y_train)"
      ],
      "metadata": {
        "colab": {
          "base_uri": "https://localhost:8080/",
          "height": 75
        },
        "id": "ntC3qQxOzydm",
        "outputId": "0ea07fd5-a293-41af-9ff4-9ffbef757bcc"
      },
      "execution_count": null,
      "outputs": [
        {
          "output_type": "execute_result",
          "data": {
            "text/plain": [
              "LogisticRegression(random_state=0)"
            ],
            "text/html": [
              "<style>#sk-container-id-9 {color: black;background-color: white;}#sk-container-id-9 pre{padding: 0;}#sk-container-id-9 div.sk-toggleable {background-color: white;}#sk-container-id-9 label.sk-toggleable__label {cursor: pointer;display: block;width: 100%;margin-bottom: 0;padding: 0.3em;box-sizing: border-box;text-align: center;}#sk-container-id-9 label.sk-toggleable__label-arrow:before {content: \"▸\";float: left;margin-right: 0.25em;color: #696969;}#sk-container-id-9 label.sk-toggleable__label-arrow:hover:before {color: black;}#sk-container-id-9 div.sk-estimator:hover label.sk-toggleable__label-arrow:before {color: black;}#sk-container-id-9 div.sk-toggleable__content {max-height: 0;max-width: 0;overflow: hidden;text-align: left;background-color: #f0f8ff;}#sk-container-id-9 div.sk-toggleable__content pre {margin: 0.2em;color: black;border-radius: 0.25em;background-color: #f0f8ff;}#sk-container-id-9 input.sk-toggleable__control:checked~div.sk-toggleable__content {max-height: 200px;max-width: 100%;overflow: auto;}#sk-container-id-9 input.sk-toggleable__control:checked~label.sk-toggleable__label-arrow:before {content: \"▾\";}#sk-container-id-9 div.sk-estimator input.sk-toggleable__control:checked~label.sk-toggleable__label {background-color: #d4ebff;}#sk-container-id-9 div.sk-label input.sk-toggleable__control:checked~label.sk-toggleable__label {background-color: #d4ebff;}#sk-container-id-9 input.sk-hidden--visually {border: 0;clip: rect(1px 1px 1px 1px);clip: rect(1px, 1px, 1px, 1px);height: 1px;margin: -1px;overflow: hidden;padding: 0;position: absolute;width: 1px;}#sk-container-id-9 div.sk-estimator {font-family: monospace;background-color: #f0f8ff;border: 1px dotted black;border-radius: 0.25em;box-sizing: border-box;margin-bottom: 0.5em;}#sk-container-id-9 div.sk-estimator:hover {background-color: #d4ebff;}#sk-container-id-9 div.sk-parallel-item::after {content: \"\";width: 100%;border-bottom: 1px solid gray;flex-grow: 1;}#sk-container-id-9 div.sk-label:hover label.sk-toggleable__label {background-color: #d4ebff;}#sk-container-id-9 div.sk-serial::before {content: \"\";position: absolute;border-left: 1px solid gray;box-sizing: border-box;top: 0;bottom: 0;left: 50%;z-index: 0;}#sk-container-id-9 div.sk-serial {display: flex;flex-direction: column;align-items: center;background-color: white;padding-right: 0.2em;padding-left: 0.2em;position: relative;}#sk-container-id-9 div.sk-item {position: relative;z-index: 1;}#sk-container-id-9 div.sk-parallel {display: flex;align-items: stretch;justify-content: center;background-color: white;position: relative;}#sk-container-id-9 div.sk-item::before, #sk-container-id-9 div.sk-parallel-item::before {content: \"\";position: absolute;border-left: 1px solid gray;box-sizing: border-box;top: 0;bottom: 0;left: 50%;z-index: -1;}#sk-container-id-9 div.sk-parallel-item {display: flex;flex-direction: column;z-index: 1;position: relative;background-color: white;}#sk-container-id-9 div.sk-parallel-item:first-child::after {align-self: flex-end;width: 50%;}#sk-container-id-9 div.sk-parallel-item:last-child::after {align-self: flex-start;width: 50%;}#sk-container-id-9 div.sk-parallel-item:only-child::after {width: 0;}#sk-container-id-9 div.sk-dashed-wrapped {border: 1px dashed gray;margin: 0 0.4em 0.5em 0.4em;box-sizing: border-box;padding-bottom: 0.4em;background-color: white;}#sk-container-id-9 div.sk-label label {font-family: monospace;font-weight: bold;display: inline-block;line-height: 1.2em;}#sk-container-id-9 div.sk-label-container {text-align: center;}#sk-container-id-9 div.sk-container {/* jupyter's `normalize.less` sets `[hidden] { display: none; }` but bootstrap.min.css set `[hidden] { display: none !important; }` so we also need the `!important` here to be able to override the default hidden behavior on the sphinx rendered scikit-learn.org. See: https://github.com/scikit-learn/scikit-learn/issues/21755 */display: inline-block !important;position: relative;}#sk-container-id-9 div.sk-text-repr-fallback {display: none;}</style><div id=\"sk-container-id-9\" class=\"sk-top-container\"><div class=\"sk-text-repr-fallback\"><pre>LogisticRegression(random_state=0)</pre><b>In a Jupyter environment, please rerun this cell to show the HTML representation or trust the notebook. <br />On GitHub, the HTML representation is unable to render, please try loading this page with nbviewer.org.</b></div><div class=\"sk-container\" hidden><div class=\"sk-item\"><div class=\"sk-estimator sk-toggleable\"><input class=\"sk-toggleable__control sk-hidden--visually\" id=\"sk-estimator-id-25\" type=\"checkbox\" checked><label for=\"sk-estimator-id-25\" class=\"sk-toggleable__label sk-toggleable__label-arrow\">LogisticRegression</label><div class=\"sk-toggleable__content\"><pre>LogisticRegression(random_state=0)</pre></div></div></div></div></div>"
            ]
          },
          "metadata": {},
          "execution_count": 191
        }
      ]
    },
    {
      "cell_type": "code",
      "source": [
        "# Predicting the test set result using\n",
        "# predict function under LogisticRegression\n",
        "y_pred = classifier.predict(X_test)"
      ],
      "metadata": {
        "id": "JygrkHM-lBBH"
      },
      "execution_count": null,
      "outputs": []
    },
    {
      "cell_type": "code",
      "source": [
        "# making confusion matrix between\n",
        "#  test set of Y and predicted value.\n",
        "\n",
        " \n",
        "cm = confusion_matrix(Y_test, y_pred)\n",
        "\n",
        "\n",
        "cm_display = metrics.ConfusionMatrixDisplay(confusion_matrix = cm, display_labels = [False, True])\n",
        "\n",
        "cm_display.plot()\n",
        "plt.show()\n",
        "\n",
        "accuracy = accuracy_score(Y_test, y_pred)\n",
        "print(\"Accuracy:\", accuracy)"
      ],
      "metadata": {
        "colab": {
          "base_uri": "https://localhost:8080/",
          "height": 466
        },
        "id": "KZlG7Lm-lECA",
        "outputId": "7d2b7aec-b6f9-48c6-d2a3-9e97ae17f2e5"
      },
      "execution_count": null,
      "outputs": [
        {
          "output_type": "display_data",
          "data": {
            "text/plain": [
              "<Figure size 640x480 with 2 Axes>"
            ],
            "image/png": "[encoded data removed]"
          },
          "metadata": {}
        },
        {
          "output_type": "stream",
          "name": "stdout",
          "text": [
            "Accuracy: 0.8586387434554974\n"
          ]
        }
      ]
    },
    {
      "cell_type": "markdown",
      "source": [
        "First attempts of training logistic regression gave very bad results. Then I noticed output value in training set wasn't distributed evenly."
      ],
      "metadata": {
        "id": "Wf6nWpFkfnoH"
      }
    },
    {
      "cell_type": "code",
      "source": [],
      "metadata": {
        "id": "IOMUU4_hQnYn"
      },
      "execution_count": null,
      "outputs": []
    }
  ]
}